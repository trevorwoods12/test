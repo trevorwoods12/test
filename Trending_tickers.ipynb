{
 "cells": [
  {
   "cell_type": "code",
   "execution_count": 1,
   "id": "ae021af4",
   "metadata": {},
   "outputs": [
    {
     "name": "stdout",
     "output_type": "stream",
     "text": [
      "KeyError for ticker: ^NSEI\n",
      "KeyError for ticker: NOKIA.HE\n",
      "KeyError for ticker: INFY.NS\n",
      "KeyError for ticker: ^BSESN\n",
      "KeyError for ticker: TCS.NS\n",
      "KeyError for ticker: ^NSEBANK\n",
      "KeyError for ticker: WIPRO.NS\n",
      "Completed.\n"
     ]
    }
   ],
   "source": [
    "import pandas as pd\n",
    "import yahooquery as yq\n",
    "from yahooquery import Ticker\n",
    "import datetime\n",
    "import csv\n",
    "'''\n",
    "This code creates a trending_ticker.csv file of the trending tickers on yahoo finance and their Pre-market percent change\n",
    "Date,Buy,Sell\n",
    "7-17-24,AAPL MSFT,NVDA AMD\n",
    "'''\n",
    "# Get the list of trending tickers\n",
    "data = yq.get_trending()\n",
    "today = datetime.date.today()\n",
    "\n",
    "# Create empty lists\n",
    "tick_up = []\n",
    "pct_change_up = []\n",
    "tick_down = []\n",
    "pct_change_down = []\n",
    "tick_error = []\n",
    "\n",
    "# Looking for stocks with +/- percent target pre-market\n",
    "pct_target = 0.02\n",
    "\n",
    "# Iterate for every item in the trending ticker list\n",
    "for item in data['quotes']:\n",
    "    # Store symbol in format 'AAPL'\n",
    "    symbol = str(item['symbol'])\n",
    "    # Create ticker object for each symbol in trending stock data\n",
    "    ticker = Ticker(symbol)\n",
    "    # Store value of each ticker\n",
    "    values = ticker.price[symbol]\n",
    "    # Append symbol and pre market percent change to lists\n",
    "    try: \n",
    "        # Append symbol and pre market percent change to lists\n",
    "        if values['preMarketChangePercent'] > pct_target:\n",
    "            tick_up.append(symbol)\n",
    "            pct_change_up.append(values['preMarketChangePercent'])\n",
    "\n",
    "        if values['preMarketChangePercent'] < -pct_target:\n",
    "            tick_down.append(symbol)\n",
    "            pct_change_down.append(values['preMarketChangePercent'])\n",
    "    except KeyError:\n",
    "        print(f\"KeyError for ticker: {symbol}\")\n",
    "        tick_error.append(symbol)\n",
    "        continue\n",
    "tick_up_str = ' '.join(tick_up)\n",
    "tick_down_str = ' '.join(tick_down)\n",
    "\n",
    "with open('trending_tickers.csv', 'a', newline='') as csvfile:\n",
    "    csvwriter = csv.writer(csvfile)\n",
    "    \n",
    "    #Write a row with the date and lists\n",
    "    #csvwriter.writerow(['Date', 'Buy', 'Sell'])\n",
    "    csvwriter.writerow([today, tick_up_str, tick_down_str])\n",
    "    \n",
    "print(\"Completed.\")"
   ]
  },
  {
   "cell_type": "code",
   "execution_count": 2,
   "id": "68720846",
   "metadata": {},
   "outputs": [
    {
     "data": {
      "text/html": [
       "<div>\n",
       "<style scoped>\n",
       "    .dataframe tbody tr th:only-of-type {\n",
       "        vertical-align: middle;\n",
       "    }\n",
       "\n",
       "    .dataframe tbody tr th {\n",
       "        vertical-align: top;\n",
       "    }\n",
       "\n",
       "    .dataframe thead th {\n",
       "        text-align: right;\n",
       "    }\n",
       "</style>\n",
       "<table border=\"1\" class=\"dataframe\">\n",
       "  <thead>\n",
       "    <tr style=\"text-align: right;\">\n",
       "      <th></th>\n",
       "      <th>Date</th>\n",
       "      <th>Buy</th>\n",
       "      <th>Sell</th>\n",
       "    </tr>\n",
       "  </thead>\n",
       "  <tbody>\n",
       "    <tr>\n",
       "      <th>0</th>\n",
       "      <td>2024-07-17</td>\n",
       "      <td>INTC GFS VFC SDST</td>\n",
       "      <td>NVDA ASML AMD TSM META SOXL FIVE QCOM AMAT SAV...</td>\n",
       "    </tr>\n",
       "    <tr>\n",
       "      <th>1</th>\n",
       "      <td>2024-07-18</td>\n",
       "      <td>SOXL NVDA ONCO APLM VIRI</td>\n",
       "      <td>NOK</td>\n",
       "    </tr>\n",
       "  </tbody>\n",
       "</table>\n",
       "</div>"
      ],
      "text/plain": [
       "         Date                       Buy  \\\n",
       "0  2024-07-17         INTC GFS VFC SDST   \n",
       "1  2024-07-18  SOXL NVDA ONCO APLM VIRI   \n",
       "\n",
       "                                                Sell  \n",
       "0  NVDA ASML AMD TSM META SOXL FIVE QCOM AMAT SAV...  \n",
       "1                                                NOK  "
      ]
     },
     "execution_count": 2,
     "metadata": {},
     "output_type": "execute_result"
    }
   ],
   "source": [
    "df = pd.read_csv('trending_tickers.csv')\n",
    "df.head()"
   ]
  },
  {
   "cell_type": "code",
   "execution_count": null,
   "id": "f9f068fc",
   "metadata": {},
   "outputs": [],
   "source": []
  }
 ],
 "metadata": {
  "kernelspec": {
   "display_name": "Python 3 (ipykernel)",
   "language": "python",
   "name": "python3"
  },
  "language_info": {
   "codemirror_mode": {
    "name": "ipython",
    "version": 3
   },
   "file_extension": ".py",
   "mimetype": "text/x-python",
   "name": "python",
   "nbconvert_exporter": "python",
   "pygments_lexer": "ipython3",
   "version": "3.11.7"
  }
 },
 "nbformat": 4,
 "nbformat_minor": 5
}
